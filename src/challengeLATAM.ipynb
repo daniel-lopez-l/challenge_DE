{
  "cells": [
    {
      "cell_type": "markdown",
      "source": [
        "\n",
        "Apply auto reload so that files are automatically loaded when a change is made\n"
      ],
      "metadata": {
        "id": "lD72JfHejdA_"
      }
    },
    {
      "cell_type": "code",
      "source": [
        "%reload_ext autoreload\n",
        "%autoreload 2"
      ],
      "metadata": {
        "id": "d7TSUI_f_6qs"
      },
      "execution_count": 1,
      "outputs": []
    },
    {
      "cell_type": "markdown",
      "source": [
        "Using Google Cloud Credentials"
      ],
      "metadata": {
        "id": "BKKHKhAAkNeA"
      }
    },
    {
      "cell_type": "code",
      "execution_count": 2,
      "metadata": {
        "id": "xtvE-jr_75gt"
      },
      "outputs": [],
      "source": [
        "import os\n",
        "\n",
        "from google.colab import auth\n",
        "auth.authenticate_user()\n"
      ]
    },
    {
      "cell_type": "code",
      "source": [
        "from google.cloud import bigquery\n",
        "\n",
        "client = bigquery.Client(\"tw-techdash\")"
      ],
      "metadata": {
        "id": "LJONr_g68FPa"
      },
      "execution_count": 3,
      "outputs": []
    },
    {
      "cell_type": "markdown",
      "source": [
        "Installa memory-profile for testing memory in functions"
      ],
      "metadata": {
        "id": "t5mIZR3rkRP2"
      }
    },
    {
      "cell_type": "code",
      "source": [
        "!pip install memory-profiler\n",
        "\n"
      ],
      "metadata": {
        "colab": {
          "base_uri": "https://localhost:8080/"
        },
        "id": "Nv87T3rt8Roc",
        "outputId": "b7518f8c-bb5b-4589-b085-c8dcd6acba79"
      },
      "execution_count": 4,
      "outputs": [
        {
          "output_type": "stream",
          "name": "stdout",
          "text": [
            "Requirement already satisfied: memory-profiler in /usr/local/lib/python3.10/dist-packages (0.61.0)\n",
            "Requirement already satisfied: psutil in /usr/local/lib/python3.10/dist-packages (from memory-profiler) (5.9.5)\n"
          ]
        }
      ]
    },
    {
      "cell_type": "markdown",
      "source": [
        "Environment variables"
      ],
      "metadata": {
        "id": "S1k7PK4uknKQ"
      }
    },
    {
      "cell_type": "code",
      "source": [
        "MOUNT_POINT = os.environ['LC_MOUNT_POINT'] = \"/content/drive\"\n",
        "SOURCE_PATH = os.environ['LC_SOURCE_PATH'] = \"/content/drive/Othercomputers/My MacBook Pro/challenge_DE\"\n"
      ],
      "metadata": {
        "id": "QnAr45Pu94Ko"
      },
      "execution_count": 5,
      "outputs": []
    },
    {
      "cell_type": "markdown",
      "source": [
        "I used Google Drive to sync the files (in addition to github)"
      ],
      "metadata": {
        "id": "hpYC5GjRkrfx"
      }
    },
    {
      "cell_type": "code",
      "source": [
        "from google.colab import drive\n",
        "drive.mount('/content/drive')\n"
      ],
      "metadata": {
        "colab": {
          "base_uri": "https://localhost:8080/"
        },
        "id": "oMKF7gIa-H9X",
        "outputId": "959bd008-1fcc-4b6f-f744-156ad4be8bc2"
      },
      "execution_count": 6,
      "outputs": [
        {
          "output_type": "stream",
          "name": "stdout",
          "text": [
            "Drive already mounted at /content/drive; to attempt to forcibly remount, call drive.mount(\"/content/drive\", force_remount=True).\n"
          ]
        }
      ]
    },
    {
      "cell_type": "code",
      "source": [
        "drive.mount(MOUNT_POINT, force_remount=True)\n",
        "\n",
        "target_directory = os.path.join(MOUNT_POINT, SOURCE_PATH, \"src\")\n",
        "os.chdir(target_directory)"
      ],
      "metadata": {
        "colab": {
          "base_uri": "https://localhost:8080/"
        },
        "id": "YD4WuhOs_PHe",
        "outputId": "e5bf968e-3985-47eb-eb5f-ae8cfd372986"
      },
      "execution_count": 7,
      "outputs": [
        {
          "output_type": "stream",
          "name": "stdout",
          "text": [
            "Mounted at /content/drive\n"
          ]
        }
      ]
    },
    {
      "cell_type": "markdown",
      "source": [
        "\n",
        "\n",
        "---\n",
        "\n",
        "### First query"
      ],
      "metadata": {
        "id": "D3c6ilx9lACF"
      }
    },
    {
      "cell_type": "code",
      "source": [
        "query1= \"\"\"\n",
        "  WITH datos AS (\n",
        "    SELECT\n",
        "      FORMAT_TIMESTAMP('%Y-%m-%d', TIMESTAMP(date)) AS fecha_formateada,\n",
        "      user.username as usuario\n",
        "    FROM\n",
        "      `tw-techdash.de_challenge_latam.tweets_latam`\n",
        "  ),\n",
        "\n",
        "  conteo_por_fecha AS (\n",
        "    SELECT\n",
        "      fecha_formateada,\n",
        "      COUNT(usuario) AS num_tweets\n",
        "    FROM\n",
        "      datos\n",
        "    GROUP BY\n",
        "      fecha_formateada\n",
        "    ORDER BY\n",
        "      num_tweets DESC\n",
        "    LIMIT 10\n",
        "  ),\n",
        "\n",
        "  usuario_top_por_fecha AS (\n",
        "    SELECT\n",
        "      fecha_formateada,\n",
        "      usuario,\n",
        "      COUNT(usuario) AS num_tweets_por_usuario,\n",
        "      RANK() OVER (PARTITION BY fecha_formateada ORDER BY COUNT(usuario) DESC) AS rank\n",
        "    FROM\n",
        "      datos\n",
        "    WHERE\n",
        "      fecha_formateada IN (SELECT fecha_formateada FROM conteo_por_fecha)\n",
        "    GROUP BY\n",
        "      fecha_formateada, usuario\n",
        "  )\n",
        "\n",
        "  SELECT\n",
        "    u.usuario AS top_user,\n",
        "    u.fecha_formateada as date,\n",
        "  FROM\n",
        "    usuario_top_por_fecha u\n",
        "  JOIN\n",
        "    conteo_por_fecha c\n",
        "  ON\n",
        "    u.fecha_formateada = c.fecha_formateada\n",
        "  WHERE\n",
        "    u.rank = 1\n",
        "  ORDER BY\n",
        "    c.num_tweets DESC\n",
        "\"\"\""
      ],
      "metadata": {
        "id": "tB2v83l44f2E"
      },
      "execution_count": 8,
      "outputs": []
    },
    {
      "cell_type": "markdown",
      "source": [
        "**import the function and variables to use:**"
      ],
      "metadata": {
        "id": "KFRhbgdQlixL"
      }
    },
    {
      "cell_type": "code",
      "source": [
        "%run q1_memory.py\n",
        "q1_memory"
      ],
      "metadata": {
        "colab": {
          "base_uri": "https://localhost:8080/",
          "height": 187
        },
        "collapsed": true,
        "id": "jfOwPGsL30DE",
        "outputId": "61ddc722-9fd6-4587-dcc3-4b34f9ad754f"
      },
      "execution_count": 9,
      "outputs": [
        {
          "output_type": "execute_result",
          "data": {
            "text/plain": [
              "<function __main__.q1_memory(client: google.cloud.bigquery.client.Client, query: str) -> List[Tuple[str, str]]>"
            ],
            "text/html": [
              "<div style=\"max-width:800px; border: 1px solid var(--colab-border-color);\"><style>\n",
              "      pre.function-repr-contents {\n",
              "        overflow-x: auto;\n",
              "        padding: 8px 12px;\n",
              "        max-height: 500px;\n",
              "      }\n",
              "\n",
              "      pre.function-repr-contents.function-repr-contents-collapsed {\n",
              "        cursor: pointer;\n",
              "        max-height: 100px;\n",
              "      }\n",
              "    </style>\n",
              "    <pre style=\"white-space: initial; background:\n",
              "         var(--colab-secondary-surface-color); padding: 8px 12px;\n",
              "         border-bottom: 1px solid var(--colab-border-color);\"><b>q1_memory</b><br/>def q1_memory(client: bigquery.Client, query: str) -&gt; List[Tuple[str, str]]</pre><pre class=\"function-repr-contents function-repr-contents-collapsed\" style=\"\"><a class=\"filepath\" style=\"display:none\" href=\"#\">/content/drive/Othercomputers/My MacBook Pro/challenge_DE/src/q1_memory.py</a>Execute and return the result of query and the memory\n",
              "Args:\n",
              "    client (bigquery.Client),\n",
              "    query (str)\n",
              "Returns: \n",
              "    result of query</pre>\n",
              "      <script>\n",
              "      if (google.colab.kernel.accessAllowed && google.colab.files && google.colab.files.view) {\n",
              "        for (const element of document.querySelectorAll('.filepath')) {\n",
              "          element.style.display = 'block'\n",
              "          element.onclick = (event) => {\n",
              "            event.preventDefault();\n",
              "            event.stopPropagation();\n",
              "            google.colab.files.view(element.textContent, 6);\n",
              "          };\n",
              "        }\n",
              "      }\n",
              "      for (const element of document.querySelectorAll('.function-repr-contents')) {\n",
              "        element.onclick = (event) => {\n",
              "          event.preventDefault();\n",
              "          event.stopPropagation();\n",
              "          element.classList.toggle('function-repr-contents-collapsed');\n",
              "        };\n",
              "      }\n",
              "      </script>\n",
              "      </div>"
            ]
          },
          "metadata": {},
          "execution_count": 9
        }
      ]
    },
    {
      "cell_type": "code",
      "source": [
        "q1_memory(client, query1)"
      ],
      "metadata": {
        "colab": {
          "base_uri": "https://localhost:8080/"
        },
        "id": "kZSHerer5n0i",
        "outputId": "c3c4a2bc-63a0-4af0-ac11-1db6a26fdad6"
      },
      "execution_count": 10,
      "outputs": [
        {
          "output_type": "stream",
          "name": "stderr",
          "text": [
            "\n",
            "PYDEV DEBUGGER WARNING:\n",
            "sys.settrace() should not be used when the debugger is being used.\n",
            "This may cause the debugger to stop working correctly.\n",
            "If this is needed, please check: \n",
            "http://pydev.blogspot.com/2007/06/why-cant-pydev-debugger-work-with.html\n",
            "to see how to restore the debug tracing back correctly.\n",
            "Call Location:\n",
            "  File \"/usr/local/lib/python3.10/dist-packages/memory_profiler.py\", line 847, in enable\n",
            "    sys.settrace(self.trace_memory_usage)\n",
            "\n",
            "\n",
            "PYDEV DEBUGGER WARNING:\n",
            "sys.settrace() should not be used when the debugger is being used.\n",
            "This may cause the debugger to stop working correctly.\n",
            "If this is needed, please check: \n",
            "http://pydev.blogspot.com/2007/06/why-cant-pydev-debugger-work-with.html\n",
            "to see how to restore the debug tracing back correctly.\n",
            "Call Location:\n",
            "  File \"/usr/local/lib/python3.10/dist-packages/memory_profiler.py\", line 850, in disable\n",
            "    sys.settrace(self._original_trace_function)\n",
            "\n"
          ]
        },
        {
          "output_type": "stream",
          "name": "stdout",
          "text": [
            "Filename: /content/drive/Othercomputers/My MacBook Pro/challenge_DE/src/q1_memory.py\n",
            "\n",
            "Line #    Mem usage    Increment  Occurrences   Line Contents\n",
            "=============================================================\n",
            "     6    190.7 MiB    190.7 MiB           1   @profile\n",
            "     7                                         def q1_memory(client: bigquery.Client, query: str) -> List[Tuple[str, str]]:\n",
            "     8                                             \"\"\"\n",
            "     9                                             Execute and return the result of query and the memory\n",
            "    10                                             Args:\n",
            "    11                                                 client (bigquery.Client),\n",
            "    12                                                 query (str)\n",
            "    13                                             Returns: \n",
            "    14                                                 result of query\n",
            "    15                                             \"\"\"\n",
            "    16    191.3 MiB      0.6 MiB           1       results = execute_query_for_memory(client, query)\n",
            "    17                                         \n",
            "    18    191.3 MiB      0.0 MiB          13       output = [(row.top_user, row.date) for row in results]\n",
            "    19                                         \n",
            "    20    191.3 MiB      0.0 MiB           1       return output\n",
            "\n",
            "\n"
          ]
        },
        {
          "output_type": "execute_result",
          "data": {
            "text/plain": [
              "[('RanbirS00614606', '2021-02-12'),\n",
              " ('MaanDee08215437', '2021-02-13'),\n",
              " ('RaaJVinderkaur', '2021-02-17'),\n",
              " ('jot__b', '2021-02-16'),\n",
              " ('rebelpacifist', '2021-02-14'),\n",
              " ('neetuanjle_nitu', '2021-02-18'),\n",
              " ('jot__b', '2021-02-15'),\n",
              " ('MangalJ23056160', '2021-02-20'),\n",
              " ('Surrypuria', '2021-02-23'),\n",
              " ('Preetm91', '2021-02-19')]"
            ]
          },
          "metadata": {},
          "execution_count": 10
        }
      ]
    },
    {
      "cell_type": "code",
      "source": [
        "%run q1_time.py\n",
        "q1_time"
      ],
      "metadata": {
        "colab": {
          "base_uri": "https://localhost:8080/",
          "height": 187
        },
        "collapsed": true,
        "id": "xF3H5ZAR6um0",
        "outputId": "c092091b-3ee5-4dc9-f347-7dda7ff971d3"
      },
      "execution_count": 11,
      "outputs": [
        {
          "output_type": "execute_result",
          "data": {
            "text/plain": [
              "<function __main__.q1_time(client: google.cloud.bigquery.client.Client, query: str) -> Tuple[List[Tuple[str, str]], float]>"
            ],
            "text/html": [
              "<div style=\"max-width:800px; border: 1px solid var(--colab-border-color);\"><style>\n",
              "      pre.function-repr-contents {\n",
              "        overflow-x: auto;\n",
              "        padding: 8px 12px;\n",
              "        max-height: 500px;\n",
              "      }\n",
              "\n",
              "      pre.function-repr-contents.function-repr-contents-collapsed {\n",
              "        cursor: pointer;\n",
              "        max-height: 100px;\n",
              "      }\n",
              "    </style>\n",
              "    <pre style=\"white-space: initial; background:\n",
              "         var(--colab-secondary-surface-color); padding: 8px 12px;\n",
              "         border-bottom: 1px solid var(--colab-border-color);\"><b>q1_time</b><br/>def q1_time(client: bigquery.Client, query: str) -&gt; Tuple[List[Tuple[str, str]], float]</pre><pre class=\"function-repr-contents function-repr-contents-collapsed\" style=\"\"><a class=\"filepath\" style=\"display:none\" href=\"#\">/content/drive/Othercomputers/My MacBook Pro/challenge_DE/src/q1_time.py</a>Execute and return the result of query and the time in ms\n",
              "Args:\n",
              "    client (bigquery.Client),\n",
              "    query (str)\n",
              "Returns: \n",
              "    result of query and the time in ms</pre>\n",
              "      <script>\n",
              "      if (google.colab.kernel.accessAllowed && google.colab.files && google.colab.files.view) {\n",
              "        for (const element of document.querySelectorAll('.filepath')) {\n",
              "          element.style.display = 'block'\n",
              "          element.onclick = (event) => {\n",
              "            event.preventDefault();\n",
              "            event.stopPropagation();\n",
              "            google.colab.files.view(element.textContent, 6);\n",
              "          };\n",
              "        }\n",
              "      }\n",
              "      for (const element of document.querySelectorAll('.function-repr-contents')) {\n",
              "        element.onclick = (event) => {\n",
              "          event.preventDefault();\n",
              "          event.stopPropagation();\n",
              "          element.classList.toggle('function-repr-contents-collapsed');\n",
              "        };\n",
              "      }\n",
              "      </script>\n",
              "      </div>"
            ]
          },
          "metadata": {},
          "execution_count": 11
        }
      ]
    },
    {
      "cell_type": "code",
      "source": [
        "q1_time(client, query1)"
      ],
      "metadata": {
        "colab": {
          "base_uri": "https://localhost:8080/"
        },
        "collapsed": true,
        "id": "TXQG4t306uu6",
        "outputId": "d1191a9f-741e-4e9d-e525-d004370bc6a9"
      },
      "execution_count": 12,
      "outputs": [
        {
          "output_type": "stream",
          "name": "stdout",
          "text": [
            "         9102 function calls (9035 primitive calls) in 0.707 seconds\n",
            "\n",
            "   Ordered by: cumulative time\n",
            "   List reduced from 550 to 10 due to restriction <10>\n",
            "\n",
            "   ncalls  tottime  percall  cumtime  percall filename:lineno(function)\n",
            "      4/3    0.000    0.000    0.705    0.235 retry_unary.py:286(retry_wrapped_func)\n",
            "      4/3    0.000    0.000    0.705    0.235 retry_unary.py:85(retry_target)\n",
            "        2    0.000    0.000    0.705    0.353 client.py:814(_call_api)\n",
            "        2    0.000    0.000    0.705    0.352 __init__.py:383(api_request)\n",
            "        2    0.000    0.000    0.704    0.352 __init__.py:276(_make_request)\n",
            "        2    0.000    0.000    0.704    0.352 __init__.py:345(_do_request)\n",
            "        2    0.000    0.000    0.704    0.352 requests.py:482(request)\n",
            "        2    0.000    0.000    0.704    0.352 sessions.py:500(request)\n",
            "        2    0.000    0.000    0.696    0.348 sessions.py:673(send)\n",
            "        2    0.000    0.000    0.693    0.347 adapters.py:613(send)\n",
            "\n",
            "\n"
          ]
        },
        {
          "output_type": "execute_result",
          "data": {
            "text/plain": [
              "([('RanbirS00614606', '2021-02-12'),\n",
              "  ('MaanDee08215437', '2021-02-13'),\n",
              "  ('RaaJVinderkaur', '2021-02-17'),\n",
              "  ('jot__b', '2021-02-16'),\n",
              "  ('rebelpacifist', '2021-02-14'),\n",
              "  ('neetuanjle_nitu', '2021-02-18'),\n",
              "  ('jot__b', '2021-02-15'),\n",
              "  ('MangalJ23056160', '2021-02-20'),\n",
              "  ('Surrypuria', '2021-02-23'),\n",
              "  ('Preetm91', '2021-02-19')],\n",
              " 0.706737756729126)"
            ]
          },
          "metadata": {},
          "execution_count": 12
        }
      ]
    },
    {
      "cell_type": "markdown",
      "source": [
        "\n",
        "\n",
        "---\n",
        "\n",
        "\n",
        "### Second query:\n",
        "\n",
        "\n"
      ],
      "metadata": {
        "id": "O-4sYc7blCkA"
      }
    },
    {
      "cell_type": "markdown",
      "source": [
        "## Note:\n",
        " Several emoji in the json appear with the unknown emoji ('\\uFFFD' = �), for this reason in the WHERE clause I have decided to remove it."
      ],
      "metadata": {
        "id": "3XB5X06-mK2Y"
      }
    },
    {
      "cell_type": "code",
      "source": [
        "query2 = \"\"\"\n",
        "  SELECT\n",
        "  emoji,\n",
        "  COUNT(*) AS total_emoji\n",
        "FROM\n",
        "  (SELECT\n",
        "        REGEXP_EXTRACT_ALL(\n",
        "          content,\n",
        "           r\"[\\p{So}]\"\n",
        "        ) AS emojis,\n",
        "        id\n",
        "      FROM\n",
        "        `tw-techdash.de_challenge_latam.tweets_latam`\n",
        "      WHERE id is not null\n",
        "  )\n",
        "CROSS JOIN UNNEST(emojis) as emoji\n",
        "WHERE emoji != '\\uFFFD' -- �\n",
        "group by emoji\n",
        "order by total_emoji desc\n",
        "limit 10\n",
        "\"\"\""
      ],
      "metadata": {
        "id": "PgsOzHpMKYOG"
      },
      "execution_count": 13,
      "outputs": []
    },
    {
      "cell_type": "markdown",
      "source": [
        "**import the function and variables to use:**"
      ],
      "metadata": {
        "id": "1gUcmwhylk4K"
      }
    },
    {
      "cell_type": "code",
      "source": [
        "%run q2_time.py\n",
        "q2_time"
      ],
      "metadata": {
        "colab": {
          "base_uri": "https://localhost:8080/",
          "height": 187
        },
        "id": "CpZbzo_0KYTl",
        "outputId": "bb4e3de5-43d5-4dae-a2b5-eb692121da18"
      },
      "execution_count": 14,
      "outputs": [
        {
          "output_type": "execute_result",
          "data": {
            "text/plain": [
              "<function __main__.q2_time(client: google.cloud.bigquery.client.Client, query: str) -> Tuple[List[Tuple[str, int]], float]>"
            ],
            "text/html": [
              "<div style=\"max-width:800px; border: 1px solid var(--colab-border-color);\"><style>\n",
              "      pre.function-repr-contents {\n",
              "        overflow-x: auto;\n",
              "        padding: 8px 12px;\n",
              "        max-height: 500px;\n",
              "      }\n",
              "\n",
              "      pre.function-repr-contents.function-repr-contents-collapsed {\n",
              "        cursor: pointer;\n",
              "        max-height: 100px;\n",
              "      }\n",
              "    </style>\n",
              "    <pre style=\"white-space: initial; background:\n",
              "         var(--colab-secondary-surface-color); padding: 8px 12px;\n",
              "         border-bottom: 1px solid var(--colab-border-color);\"><b>q2_time</b><br/>def q2_time(client: bigquery.Client, query: str) -&gt; Tuple[List[Tuple[str, int]], float]</pre><pre class=\"function-repr-contents function-repr-contents-collapsed\" style=\"\"><a class=\"filepath\" style=\"display:none\" href=\"#\">/content/drive/Othercomputers/My MacBook Pro/challenge_DE/src/q2_time.py</a>Execute and return the result of query and the time in ms\n",
              "Args:\n",
              "    client (bigquery.Client),\n",
              "    query (str)\n",
              "Returns: \n",
              "    result of query and the time in ms</pre>\n",
              "      <script>\n",
              "      if (google.colab.kernel.accessAllowed && google.colab.files && google.colab.files.view) {\n",
              "        for (const element of document.querySelectorAll('.filepath')) {\n",
              "          element.style.display = 'block'\n",
              "          element.onclick = (event) => {\n",
              "            event.preventDefault();\n",
              "            event.stopPropagation();\n",
              "            google.colab.files.view(element.textContent, 6);\n",
              "          };\n",
              "        }\n",
              "      }\n",
              "      for (const element of document.querySelectorAll('.function-repr-contents')) {\n",
              "        element.onclick = (event) => {\n",
              "          event.preventDefault();\n",
              "          event.stopPropagation();\n",
              "          element.classList.toggle('function-repr-contents-collapsed');\n",
              "        };\n",
              "      }\n",
              "      </script>\n",
              "      </div>"
            ]
          },
          "metadata": {},
          "execution_count": 14
        }
      ]
    },
    {
      "cell_type": "code",
      "source": [
        "q2_time(client, query2)"
      ],
      "metadata": {
        "colab": {
          "base_uri": "https://localhost:8080/"
        },
        "id": "sWMqCJgGKYXV",
        "outputId": "2fcc8aba-7a35-4cc6-9a6c-5cc2bc662759"
      },
      "execution_count": 15,
      "outputs": [
        {
          "output_type": "stream",
          "name": "stdout",
          "text": [
            "         8972 function calls (8905 primitive calls) in 0.760 seconds\n",
            "\n",
            "   Ordered by: cumulative time\n",
            "   List reduced from 550 to 10 due to restriction <10>\n",
            "\n",
            "   ncalls  tottime  percall  cumtime  percall filename:lineno(function)\n",
            "      4/3    0.000    0.000    0.759    0.253 retry_unary.py:286(retry_wrapped_func)\n",
            "      4/3    0.000    0.000    0.759    0.253 retry_unary.py:85(retry_target)\n",
            "        2    0.000    0.000    0.759    0.379 client.py:814(_call_api)\n",
            "        2    0.000    0.000    0.759    0.379 __init__.py:383(api_request)\n",
            "        2    0.000    0.000    0.758    0.379 __init__.py:276(_make_request)\n",
            "        2    0.000    0.000    0.758    0.379 __init__.py:345(_do_request)\n",
            "        2    0.000    0.000    0.758    0.379 requests.py:482(request)\n",
            "        2    0.000    0.000    0.758    0.379 sessions.py:500(request)\n",
            "        2    0.000    0.000    0.750    0.375 sessions.py:673(send)\n",
            "        2    0.001    0.000    0.748    0.374 adapters.py:613(send)\n",
            "\n",
            "\n"
          ]
        },
        {
          "output_type": "execute_result",
          "data": {
            "text/plain": [
              "([('✊', 2411),\n",
              "  ('❤', 1779),\n",
              "  ('☮', 316),\n",
              "  ('✌', 274),\n",
              "  ('♂', 184),\n",
              "  ('♀', 148),\n",
              "  ('✍', 103),\n",
              "  ('♥', 81),\n",
              "  ('⛳', 68),\n",
              "  ('✅', 57)],\n",
              " 0.7605245113372803)"
            ]
          },
          "metadata": {},
          "execution_count": 15
        }
      ]
    },
    {
      "cell_type": "code",
      "source": [
        "%run q2_memory.py\n",
        "q2_memory"
      ],
      "metadata": {
        "colab": {
          "base_uri": "https://localhost:8080/",
          "height": 187
        },
        "id": "6G2q1xtpsVwW",
        "outputId": "09e5f12b-565e-4adc-f1ce-c818e0eb2289"
      },
      "execution_count": 16,
      "outputs": [
        {
          "output_type": "execute_result",
          "data": {
            "text/plain": [
              "<function __main__.q2_memory(client: google.cloud.bigquery.client.Client, query: str) -> List[Tuple[str, int]]>"
            ],
            "text/html": [
              "<div style=\"max-width:800px; border: 1px solid var(--colab-border-color);\"><style>\n",
              "      pre.function-repr-contents {\n",
              "        overflow-x: auto;\n",
              "        padding: 8px 12px;\n",
              "        max-height: 500px;\n",
              "      }\n",
              "\n",
              "      pre.function-repr-contents.function-repr-contents-collapsed {\n",
              "        cursor: pointer;\n",
              "        max-height: 100px;\n",
              "      }\n",
              "    </style>\n",
              "    <pre style=\"white-space: initial; background:\n",
              "         var(--colab-secondary-surface-color); padding: 8px 12px;\n",
              "         border-bottom: 1px solid var(--colab-border-color);\"><b>q2_memory</b><br/>def q2_memory(client: bigquery.Client, query: str) -&gt; List[Tuple[str, int]]</pre><pre class=\"function-repr-contents function-repr-contents-collapsed\" style=\"\"><a class=\"filepath\" style=\"display:none\" href=\"#\">/content/drive/Othercomputers/My MacBook Pro/challenge_DE/src/q2_memory.py</a>Execute and return the result of query and the memory\n",
              "Args:\n",
              "    client (bigquery.Client),\n",
              "    query (str)\n",
              "Returns: \n",
              "    result of query</pre>\n",
              "      <script>\n",
              "      if (google.colab.kernel.accessAllowed && google.colab.files && google.colab.files.view) {\n",
              "        for (const element of document.querySelectorAll('.filepath')) {\n",
              "          element.style.display = 'block'\n",
              "          element.onclick = (event) => {\n",
              "            event.preventDefault();\n",
              "            event.stopPropagation();\n",
              "            google.colab.files.view(element.textContent, 6);\n",
              "          };\n",
              "        }\n",
              "      }\n",
              "      for (const element of document.querySelectorAll('.function-repr-contents')) {\n",
              "        element.onclick = (event) => {\n",
              "          event.preventDefault();\n",
              "          event.stopPropagation();\n",
              "          element.classList.toggle('function-repr-contents-collapsed');\n",
              "        };\n",
              "      }\n",
              "      </script>\n",
              "      </div>"
            ]
          },
          "metadata": {},
          "execution_count": 16
        }
      ]
    },
    {
      "cell_type": "code",
      "source": [
        "q2_memory(client, query2)"
      ],
      "metadata": {
        "colab": {
          "base_uri": "https://localhost:8080/"
        },
        "id": "r97n6MaisVyc",
        "outputId": "ee68aa66-aad9-4ea5-9097-72abe5048cd5"
      },
      "execution_count": 17,
      "outputs": [
        {
          "output_type": "stream",
          "name": "stdout",
          "text": [
            "Filename: /content/drive/Othercomputers/My MacBook Pro/challenge_DE/src/q2_memory.py\n",
            "\n",
            "Line #    Mem usage    Increment  Occurrences   Line Contents\n",
            "=============================================================\n",
            "     6    192.6 MiB    192.6 MiB           1   @profile\n",
            "     7                                         def q2_memory(client: bigquery.Client, query: str) ->  List[Tuple[str, int]]:\n",
            "     8                                             \"\"\"\n",
            "     9                                             Execute and return the result of query and the memory\n",
            "    10                                             Args:\n",
            "    11                                                 client (bigquery.Client),\n",
            "    12                                                 query (str)\n",
            "    13                                             Returns: \n",
            "    14                                                 result of query\n",
            "    15                                             \"\"\"\n",
            "    16    192.6 MiB      0.0 MiB           1       results = execute_query_for_memory(client, query)\n",
            "    17                                         \n",
            "    18    192.6 MiB      0.0 MiB          13       output = [(row.emoji, row.total_emoji) for row in results]\n",
            "    19                                         \n",
            "    20    192.6 MiB      0.0 MiB           1       return output\n",
            "\n",
            "\n"
          ]
        },
        {
          "output_type": "execute_result",
          "data": {
            "text/plain": [
              "[('✊', 2411),\n",
              " ('❤', 1779),\n",
              " ('☮', 316),\n",
              " ('✌', 274),\n",
              " ('♂', 184),\n",
              " ('♀', 148),\n",
              " ('✍', 103),\n",
              " ('♥', 81),\n",
              " ('⛳', 68),\n",
              " ('✅', 57)]"
            ]
          },
          "metadata": {},
          "execution_count": 17
        }
      ]
    },
    {
      "cell_type": "markdown",
      "source": [
        "---\n",
        "\n",
        "### Third query:"
      ],
      "metadata": {
        "id": "0XtPK35QlEqL"
      }
    },
    {
      "cell_type": "code",
      "source": [
        "query3 = \"\"\"\n",
        " WITH gruped AS (\n",
        "  SELECT\n",
        "    user.username AS username,\n",
        "    m.username AS top_mentioned,\n",
        "    COUNT(*) AS cuenta\n",
        "  FROM\n",
        "    `tw-techdash.de_challenge_latam.tweets_latam` as tweets,\n",
        "    UNNEST(mentionedUsers) AS m\n",
        "  WHERE tweets.id is not null\n",
        "  GROUP BY\n",
        "    username, top_mentioned\n",
        ")\n",
        "\n",
        "SELECT\n",
        "  top_mentioned,\n",
        "  SUM(cuenta) AS total_mencioned\n",
        "FROM\n",
        "  gruped\n",
        "GROUP BY\n",
        "  top_mentioned\n",
        "  order by total_mencioned desc\n",
        "LIMIT 10\n",
        "\"\"\""
      ],
      "metadata": {
        "id": "XLgMdkUIPbsz"
      },
      "execution_count": 18,
      "outputs": []
    },
    {
      "cell_type": "markdown",
      "source": [
        "**import the function and variables to use:**"
      ],
      "metadata": {
        "id": "30pi709plm7C"
      }
    },
    {
      "cell_type": "code",
      "source": [
        "%run q3_time.py\n",
        "q3_time"
      ],
      "metadata": {
        "colab": {
          "base_uri": "https://localhost:8080/",
          "height": 187
        },
        "id": "neKmnOfpPbww",
        "outputId": "b032f8d4-93b0-4c8f-9035-97c38c733ea8"
      },
      "execution_count": 19,
      "outputs": [
        {
          "output_type": "execute_result",
          "data": {
            "text/plain": [
              "<function __main__.q3_time(client: google.cloud.bigquery.client.Client, query: str) -> Tuple[List[Tuple[str, int]], float]>"
            ],
            "text/html": [
              "<div style=\"max-width:800px; border: 1px solid var(--colab-border-color);\"><style>\n",
              "      pre.function-repr-contents {\n",
              "        overflow-x: auto;\n",
              "        padding: 8px 12px;\n",
              "        max-height: 500px;\n",
              "      }\n",
              "\n",
              "      pre.function-repr-contents.function-repr-contents-collapsed {\n",
              "        cursor: pointer;\n",
              "        max-height: 100px;\n",
              "      }\n",
              "    </style>\n",
              "    <pre style=\"white-space: initial; background:\n",
              "         var(--colab-secondary-surface-color); padding: 8px 12px;\n",
              "         border-bottom: 1px solid var(--colab-border-color);\"><b>q3_time</b><br/>def q3_time(client: bigquery.Client, query: str) -&gt; Tuple[List[Tuple[str, int]], float]</pre><pre class=\"function-repr-contents function-repr-contents-collapsed\" style=\"\"><a class=\"filepath\" style=\"display:none\" href=\"#\">/content/drive/Othercomputers/My MacBook Pro/challenge_DE/src/q3_time.py</a>Execute and return the result of query and the time in ms\n",
              " Args:\n",
              "     client (bigquery.Client),\n",
              "     query (str)\n",
              " Returns: \n",
              "     result of query and the time in ms\n",
              " </pre>\n",
              "      <script>\n",
              "      if (google.colab.kernel.accessAllowed && google.colab.files && google.colab.files.view) {\n",
              "        for (const element of document.querySelectorAll('.filepath')) {\n",
              "          element.style.display = 'block'\n",
              "          element.onclick = (event) => {\n",
              "            event.preventDefault();\n",
              "            event.stopPropagation();\n",
              "            google.colab.files.view(element.textContent, 6);\n",
              "          };\n",
              "        }\n",
              "      }\n",
              "      for (const element of document.querySelectorAll('.function-repr-contents')) {\n",
              "        element.onclick = (event) => {\n",
              "          event.preventDefault();\n",
              "          event.stopPropagation();\n",
              "          element.classList.toggle('function-repr-contents-collapsed');\n",
              "        };\n",
              "      }\n",
              "      </script>\n",
              "      </div>"
            ]
          },
          "metadata": {},
          "execution_count": 19
        }
      ]
    },
    {
      "cell_type": "code",
      "source": [
        "q3_time(client, query3)"
      ],
      "metadata": {
        "colab": {
          "base_uri": "https://localhost:8080/"
        },
        "id": "Eo3T8rX7Pb01",
        "outputId": "4557cf38-4a8a-44cc-8ce6-2c00472ccf6f"
      },
      "execution_count": 20,
      "outputs": [
        {
          "output_type": "stream",
          "name": "stdout",
          "text": [
            "         9204 function calls (9137 primitive calls) in 0.754 seconds\n",
            "\n",
            "   Ordered by: cumulative time\n",
            "   List reduced from 550 to 10 due to restriction <10>\n",
            "\n",
            "   ncalls  tottime  percall  cumtime  percall filename:lineno(function)\n",
            "      4/3    0.000    0.000    0.752    0.251 retry_unary.py:286(retry_wrapped_func)\n",
            "      4/3    0.000    0.000    0.752    0.251 retry_unary.py:85(retry_target)\n",
            "        2    0.000    0.000    0.752    0.376 client.py:814(_call_api)\n",
            "        2    0.000    0.000    0.752    0.376 __init__.py:383(api_request)\n",
            "        2    0.000    0.000    0.752    0.376 __init__.py:276(_make_request)\n",
            "        2    0.000    0.000    0.752    0.376 __init__.py:345(_do_request)\n",
            "        2    0.000    0.000    0.752    0.376 requests.py:482(request)\n",
            "        2    0.000    0.000    0.751    0.376 sessions.py:500(request)\n",
            "        2    0.000    0.000    0.748    0.374 sessions.py:673(send)\n",
            "        2    0.000    0.000    0.747    0.374 adapters.py:613(send)\n",
            "\n",
            "\n"
          ]
        },
        {
          "output_type": "execute_result",
          "data": {
            "text/plain": [
              "([('narendramodi', 2265),\n",
              "  ('Kisanektamorcha', 1840),\n",
              "  ('RakeshTikaitBKU', 1644),\n",
              "  ('PMOIndia', 1427),\n",
              "  ('RahulGandhi', 1146),\n",
              "  ('GretaThunberg', 1048),\n",
              "  ('RaviSinghKA', 1019),\n",
              "  ('rihanna', 986),\n",
              "  ('UNHumanRights', 962),\n",
              "  ('meenaharris', 926)],\n",
              " 0.7537240982055664)"
            ]
          },
          "metadata": {},
          "execution_count": 20
        }
      ]
    },
    {
      "cell_type": "code",
      "source": [
        "%run q3_memory.py\n",
        "q3_memory"
      ],
      "metadata": {
        "colab": {
          "base_uri": "https://localhost:8080/",
          "height": 187
        },
        "id": "CYLK9KK7sX6Q",
        "outputId": "c41192eb-ae4b-4b42-9336-6546620de517"
      },
      "execution_count": 21,
      "outputs": [
        {
          "output_type": "execute_result",
          "data": {
            "text/plain": [
              "<function __main__.q3_memory(client: google.cloud.bigquery.client.Client, query: str) -> List[Tuple[str, int]]>"
            ],
            "text/html": [
              "<div style=\"max-width:800px; border: 1px solid var(--colab-border-color);\"><style>\n",
              "      pre.function-repr-contents {\n",
              "        overflow-x: auto;\n",
              "        padding: 8px 12px;\n",
              "        max-height: 500px;\n",
              "      }\n",
              "\n",
              "      pre.function-repr-contents.function-repr-contents-collapsed {\n",
              "        cursor: pointer;\n",
              "        max-height: 100px;\n",
              "      }\n",
              "    </style>\n",
              "    <pre style=\"white-space: initial; background:\n",
              "         var(--colab-secondary-surface-color); padding: 8px 12px;\n",
              "         border-bottom: 1px solid var(--colab-border-color);\"><b>q3_memory</b><br/>def q3_memory(client: bigquery.Client, query: str) -&gt; List[Tuple[str, int]]</pre><pre class=\"function-repr-contents function-repr-contents-collapsed\" style=\"\"><a class=\"filepath\" style=\"display:none\" href=\"#\">/content/drive/Othercomputers/My MacBook Pro/challenge_DE/src/q3_memory.py</a>Execute and return the result of query and the memory\n",
              "Args:\n",
              "    client (bigquery.Client),\n",
              "    query (str)\n",
              "Returns: \n",
              "    result of query</pre>\n",
              "      <script>\n",
              "      if (google.colab.kernel.accessAllowed && google.colab.files && google.colab.files.view) {\n",
              "        for (const element of document.querySelectorAll('.filepath')) {\n",
              "          element.style.display = 'block'\n",
              "          element.onclick = (event) => {\n",
              "            event.preventDefault();\n",
              "            event.stopPropagation();\n",
              "            google.colab.files.view(element.textContent, 6);\n",
              "          };\n",
              "        }\n",
              "      }\n",
              "      for (const element of document.querySelectorAll('.function-repr-contents')) {\n",
              "        element.onclick = (event) => {\n",
              "          event.preventDefault();\n",
              "          event.stopPropagation();\n",
              "          element.classList.toggle('function-repr-contents-collapsed');\n",
              "        };\n",
              "      }\n",
              "      </script>\n",
              "      </div>"
            ]
          },
          "metadata": {},
          "execution_count": 21
        }
      ]
    },
    {
      "cell_type": "code",
      "source": [
        "q3_memory(client, query3)"
      ],
      "metadata": {
        "colab": {
          "base_uri": "https://localhost:8080/"
        },
        "id": "-HDYiuxtsX8s",
        "outputId": "fa216e5f-a0f7-42b5-ff3b-f82b264cdbde"
      },
      "execution_count": 22,
      "outputs": [
        {
          "output_type": "stream",
          "name": "stdout",
          "text": [
            "Filename: /content/drive/Othercomputers/My MacBook Pro/challenge_DE/src/q3_memory.py\n",
            "\n",
            "Line #    Mem usage    Increment  Occurrences   Line Contents\n",
            "=============================================================\n",
            "     6    192.6 MiB    192.6 MiB           1   @profile\n",
            "     7                                         def q3_memory(client: bigquery.Client, query: str) ->  List[Tuple[str, int]]:\n",
            "     8                                             \"\"\"\n",
            "     9                                             Execute and return the result of query and the memory\n",
            "    10                                             Args:\n",
            "    11                                                 client (bigquery.Client),\n",
            "    12                                                 query (str)\n",
            "    13                                             Returns: \n",
            "    14                                                 result of query\n",
            "    15                                             \"\"\"\n",
            "    16    192.6 MiB      0.0 MiB           1       results = execute_query_for_memory(client, query)\n",
            "    17                                         \n",
            "    18    192.6 MiB      0.0 MiB          13       output = [(row.top_mentioned, row.total_mencioned) for row in results]\n",
            "    19                                         \n",
            "    20    192.6 MiB      0.0 MiB           1       return output\n",
            "\n",
            "\n"
          ]
        },
        {
          "output_type": "execute_result",
          "data": {
            "text/plain": [
              "[('narendramodi', 2265),\n",
              " ('Kisanektamorcha', 1840),\n",
              " ('RakeshTikaitBKU', 1644),\n",
              " ('PMOIndia', 1427),\n",
              " ('RahulGandhi', 1146),\n",
              " ('GretaThunberg', 1048),\n",
              " ('RaviSinghKA', 1019),\n",
              " ('rihanna', 986),\n",
              " ('UNHumanRights', 962),\n",
              " ('meenaharris', 926)]"
            ]
          },
          "metadata": {},
          "execution_count": 22
        }
      ]
    },
    {
      "cell_type": "markdown",
      "source": [
        "\n",
        "\n",
        "---\n",
        "\n",
        "# Result:\n",
        "\n",
        "## First Query:\n",
        "\"Las top 10 fechas donde hay más tweets. Mencionar el usuario (username) que más publicaciones tiene por cada uno de esos días\"\n",
        "\n",
        "| top_user          | date       |\n",
        "|-------------------|------------|\n",
        "| RanbirS00614606   | 2021-02-12 |\n",
        "| MaanDee08215437   | 2021-02-13 |\n",
        "| RaaJVinderkaur    | 2021-02-17 |\n",
        "| jot__b            | 2021-02-16 |\n",
        "| rebelpacifist     | 2021-02-14 |\n",
        "| neetuanjle_nitu   | 2021-02-18 |\n",
        "| jot__b            | 2021-02-15 |\n",
        "| MangalJ23056160   | 2021-02-20 |\n",
        "| Surrypuria        | 2021-02-23 |\n",
        "| Preetm91          | 2021-02-19 |\n",
        "\n",
        "\n",
        "## Second Query:\n",
        "\n",
        "| emoji | total_emoji |\n",
        "|-------|-------|\n",
        "| ✊    | 2411  |\n",
        "| ❤    | 1779  |\n",
        "| ☮    | 316   |\n",
        "| ✌    | 274   |\n",
        "| ♂    | 184   |\n",
        "| ♀    | 148   |\n",
        "| ✍    | 103   |\n",
        "| ♥    | 81    |\n",
        "| ⛳    | 68    |\n",
        "| ✅    | 57    |\n",
        "\n",
        "\n",
        "## Third Query:\n",
        "\n",
        "| top_mentioned            | total_mentioned |\n",
        "|---------------------|-------|\n",
        "| narendramodi        | 2265  |\n",
        "| Kisanektamorcha     | 1840  |\n",
        "| RakeshTikaitBKU     | 1644  |\n",
        "| PMOIndia            | 1427  |\n",
        "| RahulGandhi         | 1146  |\n",
        "| GretaThunberg       | 1048  |\n",
        "| RaviSinghKA         | 1019  |\n",
        "| rihanna             | 986   |\n",
        "| UNHumanRights       | 962   |\n",
        "| meenaharris         | 926   |\n",
        "\n"
      ],
      "metadata": {
        "id": "w0ndcGYom1aq"
      }
    },
    {
      "cell_type": "markdown",
      "source": [
        "---\n",
        "## Oportunidades de mejoras:\n",
        "\n",
        "Como oportunidades de mejoras es editar el manejador de errores de una manera más específica, en la cual pueda capturar excepciones más distintivas como las BadRequest.\n",
        "\n",
        "Otra cosa a mejorar es investigar una libería mejor para el uso de memoria, debido a la recomendada, no me dejo del todo conforme con la salida.\n",
        "\n",
        "Otro punto más pequeño es no sincronizar con GoogleDrive el Google Colab ya que al cambiar de ambientes se desincroniza y hay que volver a actualizarlo.\n"
      ],
      "metadata": {
        "id": "0XHX8mj0DX48"
      }
    }
  ],
  "metadata": {
    "language_info": {
      "name": "python"
    },
    "orig_nbformat": 4,
    "colab": {
      "provenance": []
    },
    "kernelspec": {
      "name": "python3",
      "display_name": "Python 3"
    }
  },
  "nbformat": 4,
  "nbformat_minor": 0
}